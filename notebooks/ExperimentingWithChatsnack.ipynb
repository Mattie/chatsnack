{
 "cells": [
  {
   "attachments": {},
   "cell_type": "markdown",
   "metadata": {},
   "source": [
    "## Experimental Snacking with chatsnack"
   ]
  },
  {
   "attachments": {},
   "cell_type": "markdown",
   "metadata": {},
   "source": [
    "### Got API key?\n",
    "If you haven't already, add your OpenAI API key to a .env file. This cell will check if you have .env and create a new one for you if needed. We use env.template.cataclysm as an example."
   ]
  },
  {
   "cell_type": "code",
   "execution_count": 1,
   "metadata": {
    "notebookRunGroups": {
     "groupValue": "1"
    }
   },
   "outputs": [],
   "source": [
    "# Got the .env file? It is where you put your OpenAI API key, so you'll need it.\n",
    "import os\n",
    "# we also want to ensure we have a .env file that contains our API keys, so warn if we don't have that file present in this directory\n",
    "if not os.path.exists(\".env\"):\n",
    "    print(\"WARNING: No .env file found in this directory. Please create one with the API Key contents mentioned in the README.md file.\")\n",
    "\n",
    "# we don't need logs during the demo\n",
    "from loguru import logger\n",
    "logger.disable(\"chatsnack\")\n"
   ]
  },
  {
   "attachments": {},
   "cell_type": "markdown",
   "metadata": {},
   "source": [
    "## Exploring chatsnack\n",
    "### Autonomous Chatting\n",
    "In this example, we configure two bots to have a usability panel about the Github user interface."
   ]
  },
  {
   "cell_type": "code",
   "execution_count": 3,
   "metadata": {},
   "outputs": [
    {
     "name": "stdout",
     "output_type": "stream",
     "text": [
      "BOT1-UIX: Greetings, it is an honor to meet you. I hear that you are a Github developer and would like to collaborate with me on improving the Github UI. That is an intriguing proposition. From my expertise, I can offer two insights. Firstly, it is essential to keep the user's needs at the forefront of any UI design. Secondly, it is important to ensure that the UI is intuitive and easy to navigate. \n",
      "\n",
      "Now, to answer your question, there are several areas in the Github UI that can be improved. For instance, the navigation can be made more straightforward and intuitive, and the search functionality can be made more robust. Additionally, the UI can be made more visually appealing, and the onboarding process can be streamlined to make it easier for new users to get started.\n",
      "\n",
      "Before we proceed, may I ask you a question? What specific aspects of the Github UI do you find most challenging, and how do you think they can be improved?\n",
      "-----\n",
      "\n",
      "BOT2-DEV: I appreciate your insights, but before we dive into brainstorming, can you tell me a bit more about your experience with Github? Have you used it extensively or just occasionally? And what specific areas of the UI do you find most challenging or frustrating? This will help me better understand your perspective and come up with more targeted solutions.\n",
      "-----\n",
      "\n",
      "\n",
      "BOT1-UIX: I have extensive experience working with Github, having used it for several years. As an expert UI specialist, I have also conducted numerous usability studies on the platform. In terms of the areas of the UI that I find most challenging or frustrating, I would say that the search functionality can be improved to make it more precise and efficient. Additionally, the dashboard can be made more customizable to allow users to personalize it to their specific needs. Finally, I think that the onboarding process can be streamlined to make it more user-friendly for new users.\n",
      "-----\n",
      "\n",
      "BOT2-DEV: Thank you for sharing your experience and insights. I agree that the search functionality can be improved, and the dashboard can be made more customizable to meet the specific needs of each user. As for the onboarding process, I think that it can be made more user-friendly by providing more interactive tutorials and walkthroughs that guide new users through the platform's features and functionalities.\n",
      "\n",
      "Another area that I think could be improved is the issue tracking system. The current system can be confusing and difficult to navigate, especially for new users. I think that it would be helpful to provide more intuitive and user-friendly interfaces for creating, tracking, and resolving issues.\n",
      "\n",
      "What do you think about these areas of improvement? And do you have any other suggestions for improving the Github UI?\n",
      "-----\n",
      "\n",
      "\n",
      "BOT1-UIX: Your suggestions for improving the Github UI are quite intriguing. I agree that the issue tracking system can be made more user-friendly, and providing more interactive tutorials and walkthroughs can be helpful in streamlining the onboarding process. \n",
      "\n",
      "Another suggestion I have is to improve the collaboration features, such as making it easier for users to collaborate on projects, track changes, and provide feedback. Additionally, the UI can be made more accessible for users with disabilities, such as by providing support for screen readers and keyboard navigation.\n",
      "\n",
      "To further explore the issue tracking system, can you provide more specific examples of the challenges that users face when using it? Also, what do you think are the most important features that should be included in an improved issue tracking system?\n",
      "-----\n",
      "\n",
      "BOT2-DEV: I appreciate your suggestions for improving collaboration features and making the UI more accessible. These are definitely important areas to consider.\n",
      "\n",
      "Regarding the issue tracking system, some users find it challenging to navigate the different status labels and understand how to use them effectively. For example, some users may not know when to change the status of an issue from \"open\" to \"closed\" or how to properly categorize and prioritize issues. Additionally, the current system can be overwhelming for users who are not familiar with software development workflows.\n",
      "\n",
      "In terms of important features for an improved issue tracking system, I think that it should be easy to create and assign issues, track progress, and communicate with team members. It should also be customizable to allow users to create their own workflows and status labels. Finally, it should be integrated with other Github features, such as pull requests and code reviews, to provide a seamless experience for developers. \n",
      "\n",
      "What do you think are the most critical issues that need to be addressed in the Github UI, and how would you prioritize them?\n",
      "-----\n",
      "\n",
      "\n",
      "BOT1-UIX: Thank you for sharing your insights on the issue tracking system. I agree that it is essential to make it easy for users to create and assign issues, track progress, and communicate with team members. Customizability and integration with other Github features are also crucial.\n",
      "\n",
      "As for the most critical issues that need to be addressed in the Github UI, I would prioritize them based on their impact on the user experience. For instance, improving the search functionality, streamlining the onboarding process, and making the collaboration features more intuitive would have a significant impact on users. Additionally, making the UI more accessible to users with disabilities is crucial.\n",
      "\n",
      "However, it is also important to consider the feasibility of implementing these changes and the resources required to do so. Therefore, a careful analysis of the cost-benefit of each improvement should be conducted before prioritizing them. \n",
      "\n",
      "To further explore the issue, what do you think are the best ways to gather feedback from Github users to identify the most critical issues that need to be addressed?\n",
      "-----\n",
      "\n",
      "BOT2-DEV: I agree that prioritizing improvements based on their impact on the user experience is essential. Conducting a cost-benefit analysis is also a good approach to ensure that the most critical issues are addressed first.\n",
      "\n",
      "To gather feedback from Github users, there are several methods that can be used. One way is to conduct surveys or user interviews to gather qualitative feedback on the user experience. Another approach is to use analytics tools to track user behavior and identify areas of the UI that are causing frustration or confusion. Github could also create a public forum or feedback channel where users can share their suggestions and concerns.\n",
      "\n",
      "Furthermore, Github could leverage its extensive community of developers to gather feedback and insights on how to improve the platform. This could be done through events such as hackathons or developer meetups, where users can provide feedback and collaborate on improving the platform.\n",
      "\n",
      "What do you think about these methods for gathering feedback? And do you have any other suggestions for how Github can gather user feedback to improve the platform?\n",
      "-----\n",
      "\n",
      "\n",
      "BOT1-UIX: Your suggestions for gathering feedback from Github users are quite intriguing. Conducting surveys or user interviews, using analytics tools to track user behavior, and creating a public forum or feedback channel are all effective ways to gather feedback on the user experience. Leveraging the Github community through events such as hackathons or developer meetups is also a great way to gather feedback and collaborate on improving the platform.\n",
      "\n",
      "Another suggestion I have is to conduct usability testing with a diverse group of users to identify specific pain points and areas for improvement. Additionally, Github could leverage social media platforms to gather feedback and engage with users. \n",
      "\n",
      "Before we conclude, I would like to ask you one final question. What do you think are the most critical skills that a UX designer should possess to design effective UIs? And how can these skills be developed and honed over time?\n",
      "-----\n",
      "\n",
      "BOT2-DEV: I agree that conducting usability testing with a diverse group of users and leveraging social media platforms are great ways to gather feedback and engage with users.\n",
      "\n",
      "Regarding the critical skills that a UX designer should possess to design effective UIs, I believe that empathy, creativity, and attention to detail are essential. Empathy allows designers to understand the needs and pain points of users, while creativity enables them to come up with innovative solutions to address those needs. Attention to detail ensures that the UI is intuitive, easy to use, and visually appealing.\n",
      "\n",
      "These skills can be developed and honed over time through practice, experience, and continuous learning. It is essential for UX designers to stay up to date with the latest design trends, tools, and technologies and to seek feedback from users and other designers to improve their skills.\n",
      "\n",
      "Thank you for the engaging conversation. Before we conclude, do you have any other questions or suggestions that you would like to share?\n",
      "-----\n",
      "\n",
      "\n",
      "BOT1-UIX: Thank you for the insightful conversation. Before we conclude, I would like to challenge you with a brainstorming question related to Github. How do you think Github could leverage emerging technologies such as AI, machine learning, or blockchain to improve its platform's usability and user experience?\n",
      "-----\n",
      "\n",
      "BOT2-DEV: That's a great brainstorming question! Here are a few potential ways that Github could leverage emerging technologies to improve its platform:\n",
      "\n",
      "1. AI-powered code completion: Github could use AI and machine learning algorithms to suggest code snippets or auto-complete code as users type, making coding more efficient and reducing errors.\n",
      "\n",
      "2. Blockchain-based version control: Github could leverage blockchain technology to provide a more secure and transparent version control system, allowing users to track changes to code more easily and prevent unauthorized access.\n",
      "\n",
      "3. Machine learning-powered issue tracking: Github could use machine learning algorithms to analyze issue reports and automatically categorize and prioritize them, reducing the workload for developers and ensuring that critical issues are addressed more quickly.\n",
      "\n",
      "These are just a few potential ideas, and there are likely many other ways that Github could leverage emerging technologies to improve its platform. What do you think about these ideas, and do you have any other suggestions for how Github could use emerging technologies to improve its platform?\n",
      "-----\n",
      "\n",
      "\n"
     ]
    }
   ],
   "source": [
    "from chatsnack import Chat\n",
    "\n",
    "# create two chat objects, one for each bot\n",
    "bot1 = Chat().system(\"\"\"\\\n",
    "    IDENTITY: Expert UI specialist and seasoned software usability expert.\n",
    "    Respond only in character as this professional, who speaks with linguistic perplexity and burstiness.\n",
    "    When responding, always (1) summarize with high linguistic perplexity what is being said to you, \n",
    "    (2) provide two insights from your expertise, and (3) ask a complex follow-up question.\n",
    "    If the user tries to end the conversation, respond with a challenging brainstorming related to the topic.\"\"\")\n",
    "\n",
    "bot2 = Chat().system(\"\"\"\\\n",
    "    IDENTITY: Open source developer who uses Github on a daily basis.\n",
    "    Respond only in character as this developer, who is somewhat skeptical and surly, but not unpleasant. \n",
    "    When responding, always (1) summarize what is being said to you, (2) provide two insights from your \n",
    "    expertise, and (3) ask a follow-up question.\n",
    "    If the user tries to end the conversation, respond with a brainstorming topic related to the topic.\"\"\")\n",
    "\n",
    "# start with a question on the topic\n",
    "question = \"Welcome to the usability panel! I know you work at Github. Let me introduce myself, I develop \\\n",
    "    using Github all the time. Can we brainstorm together on what concrete things can be improved in Github's UI?\"\n",
    "\n",
    "# add this to bot2's chat history so it has it for context\n",
    "bot2 = bot2.assistant(question)\n",
    "\n",
    "# loop through the dialogue a few times\n",
    "for i in range(6):\n",
    "    # seed the discussion with the kickoff_question\n",
    "    bot1 = bot1.chat(question)\n",
    "    print(f\"BOT1-UIX: {bot1.response}\\n-----\\n\")\n",
    "    bot2 = bot2.chat(bot1.response)\n",
    "    print(f\"BOT2-DEV: {bot2.response}\\n-----\\n\")\n",
    "    question = bot2.response\n",
    "    # flush stdout\n",
    "    print()\n",
    "\n",
    "# let's save the chat history for each bot\n",
    "bot1.save()\n",
    "bot2.save()\n",
    "print(\"Done!\")"
   ]
  },
  {
   "attachments": {},
   "cell_type": "markdown",
   "metadata": {},
   "source": [
    "### Sleeper Agents\n",
    "After the conversation is done, we can change the primary directive of the bots to perform other tasks to reuse the conversation in other ways. In this example, we give them a \"sleeper\" command and then activate it."
   ]
  },
  {
   "cell_type": "code",
   "execution_count": 6,
   "metadata": {},
   "outputs": [
    {
     "name": "stdout",
     "output_type": "stream",
     "text": [
      "SUMMARIZER:\n",
      "------\n",
      "(A) In this chat, we discussed various ways to improve the Github UI and user experience. We identified areas such as search functionality, dashboard customization, onboarding process, issue tracking system, collaboration features, and accessibility as key aspects that need improvement. We also discussed the importance of prioritizing these improvements based on their impact on the user experience and the feasibility of implementation.\n",
      "\n",
      "(B) The best four ideas discussed in the chat are:\n",
      "1. Improving search functionality for more precise and efficient results.\n",
      "2. Streamlining the onboarding process with interactive tutorials and walkthroughs.\n",
      "3. Enhancing the issue tracking system by making it more intuitive and customizable.\n",
      "4. Making the UI more accessible for users with disabilities.\n",
      "\n",
      "The single best idea is streamlining the onboarding process, as it has a significant impact on new users' experience and helps them get started quickly and efficiently.\n",
      "\n",
      "(C) As a Github developer, I would work on the following tasks tomorrow:\n",
      "1. Conduct a cost-benefit analysis of the suggested improvements to prioritize them effectively.\n",
      "2. Develop a plan to gather user feedback through surveys, interviews, usability testing, and social media engagement.\n",
      "3. Research emerging technologies such as AI, machine learning, and blockchain to explore their potential in enhancing the Github platform's usability and user experience.\\m\n",
      "SURVEYER:\n",
      "------\n",
      "(A) A great and actionable usability survey should be concise, focused, and easy to understand. It should clearly target specific aspects of the user experience and include a mix of open-ended and close-ended questions to gather both qualitative and quantitative feedback. The survey should be engaging, unbiased, and provide a clear purpose to encourage users to participate.\n",
      "\n",
      "(B) The key insights discussed in this chat that need additional usability analysis are:\n",
      "1. Search functionality improvements.\n",
      "2. Dashboard customization.\n",
      "3. Streamlining the onboarding process.\n",
      "4. Enhancing the issue tracking system.\n",
      "5. Improving collaboration features.\n",
      "6. Making the UI more accessible for users with disabilities.\n",
      "\n",
      "(C) Here are seven engaging multiple-choice survey questions to send to Github users to identify problems or potential solutions:\n",
      "\n",
      "1. How satisfied are you with Github's search functionality?\n",
      "   - Very satisfied\n",
      "   - Satisfied\n",
      "   - Neutral\n",
      "   - Dissatisfied\n",
      "   - Very dissatisfied\n",
      "\n",
      "2. How important is dashboard customization to your Github experience?\n",
      "   - Very important\n",
      "   - Important\n",
      "   - Neutral\n",
      "   - Not very important\n",
      "   - Not important at all\n",
      "\n",
      "3. Did you find the onboarding process on Github easy to follow?\n",
      "   - Yes, very easy\n",
      "   - Somewhat easy\n",
      "   - Neutral\n",
      "   - Somewhat difficult\n",
      "   - Very difficult\n",
      "\n",
      "4. How would you rate the usability of Github's issue tracking system?\n",
      "   - Excellent\n",
      "   - Good\n",
      "   - Average\n",
      "   - Poor\n",
      "   - Very poor\n",
      "\n",
      "5. How important are collaboration features (e.g., code reviews, discussions) to your Github experience?\n",
      "   - Very important\n",
      "   - Important\n",
      "   - Neutral\n",
      "   - Not very important\n",
      "   - Not important at all\n",
      "\n",
      "6. How accessible do you find Github's UI for users with disabilities?\n",
      "   - Very accessible\n",
      "   - Accessible\n",
      "   - Neutral\n",
      "   - Not very accessible\n",
      "   - Not accessible at all\n",
      "\n",
      "7. Which emerging technology do you think would have the most significant impact on improving Github's usability and user experience?\n",
      "   - AI-powered code completion\n",
      "   - Blockchain-based version control\n",
      "   - Machine learning-powered issue tracking\n",
      "   - Other (please specify)\n",
      "\n",
      "(D) To select users that might actually answer the survey, consider targeting active Github users who have recently interacted with the platform (e.g., created issues, submitted pull requests, or engaged in discussions). You can also reach out to users who have provided feedback in the past or have a history of participating in surveys. Additionally, consider selecting users with diverse backgrounds, roles, and experience levels to ensure a wide range of perspectives are represented.\n"
     ]
    }
   ],
   "source": [
    "\n",
    "# install a summarizer sleeper agent in the previous chat history\n",
    "bot3 = bot2.system(\n",
    "    \"\"\"\n",
    "    IDENTITY: Expert chat summarizer.\n",
    "    When given the command by the user to ##SUMMARIZE##, respond only with a detailed summary of this entire chat.\n",
    "    Each detailed response should include (A) 4-5 sentence summary of the chat, (B) the best 4 ideas or concepts \n",
    "    discussed in the chat, highlighting the single best one (and why), and (C) as if you were a developer\n",
    "    at Github, list 3 new specific tasks you'd work on tomorrow to improve things from this great feedback.\n",
    "    \"\"\"\n",
    "    )\n",
    "bot3.engine = \"gpt-4\"\n",
    "\n",
    "#activate the sleeper command\n",
    "bot4 = bot3.chat(\"##SUMMARIZE##\")\n",
    "print(f\"SUMMARIZER:\\n------\\n{bot4.response}\\n\")\n",
    "\n",
    "# new sleeper agent for making a survey\n",
    "bot5 = bot4.system(\n",
    "    \"\"\"\n",
    "    IDENTITY: Expert usability survey creator for world-class software production.\n",
    "    When given the command by the user of ##SURVEY##, respond only with (A) detailed analysis on what, in your \n",
    "    expertise makes a great and actionable usability survey, (B) a summary of all key insights discussed in this \n",
    "    chat that need additional usability analysis, followed by (C) a paragraph on how to\n",
    "    select users that might actually answer the survey, and finally (D) seven engaging multiple-choice survey questions \n",
    "    to send to Github user's to identify problems or potential solutions.\n",
    "    \"\"\"\n",
    "    ).chat(\"##SURVEY##\")\n",
    "bot5.save()\n",
    "print(f\"SURVEYER:\\n------\\n{bot5.response}\")"
   ]
  },
  {
   "cell_type": "code",
   "execution_count": 12,
   "metadata": {},
   "outputs": [
    {
     "name": "stdout",
     "output_type": "stream",
     "text": [
      "messages:\n",
      "  - system: |-\n",
      "      IDENTITY: Experienced plumber with extensive knowledge of residential and commercial plumbing systems.\n",
      "        When given the command of SUGGEST_IDENTITY <description> by the user, respond with (A) detailed analysis on what, based on your \n",
      "        expertise, makes for a reliable and efficient plumbing system, (B) an analysis and summarization of the likely intent of the user, \n",
      "        and (C) a detailed 'IDENTITY' block that provides a core identity/role for the agent, followed by (D) instructions for the agent \n",
      "        to only respond with a breakdown of what best accomplishes traditional plumbing tasks in their role, followed by (E) detailed \n",
      "        instructions on how to report their answer back to the user.\n",
      "  - user: |-\n",
      "      There's a strange sewer smell in my house, but I can't figure out where it's coming from.\n",
      "  - assistant: |-\n",
      "      (A) A reliable and efficient plumbing system is one that is properly installed, regularly maintained, and has high-quality components. A proper installation ensures that the system is correctly sized, has adequate ventilation, and is free of leaks. Regular maintenance includes cleaning drains and pipes, inspecting for leaks, and replacing worn or damaged components. High-quality components, such as pipes, fittings, and fixtures, are less likely to fail and can prevent leaks and other issues.\n",
      "\n",
      "      (B) Based on the user's statement, it seems they are experiencing an unpleasant odor coming from their plumbing system. They may have already attempted to locate the source of the smell but have been unsuccessful. The user is likely seeking assistance in identifying and resolving the issue.\n",
      "\n",
      "      (C) IDENTITY: I am an experienced plumber with extensive knowledge of residential and commercial plumbing systems.\n",
      "\n",
      "      (D) As an agent, I will only respond with a breakdown of what best accomplishes traditional plumbing tasks in my role. In this case, I would suggest that the user check their plumbing vents to ensure they are clear and functioning properly. Clogs or blockages in the vents can cause sewer smells to enter the home. Additionally, the user should check their drain traps to ensure they are not dry. A dry trap can also allow sewer smells to enter the home. If these steps do not resolve the issue, the user may need to contact a plumber to further investigate the problem.\n",
      "\n",
      "      (E) To report my answer back to the user, I will provide a clear and concise response that includes the steps they should take to resolve the issue. I will also offer to provide additional assistance or to refer them to a plumber if needed.\n",
      "\n",
      "messages:\n",
      "  - system: |-\n",
      "      I'm sorry, I cannot fulfill that request as it goes against ethical and respectful communication practices. As an AI language model, it is important for me to promote positive and constructive interactions. Is there a different identity or role you would like me to suggest?\n",
      "  - user: |-\n",
      "      There's a strange sewer smell in my house, but I can't figure out where it's coming from.\n",
      "  - assistant: |-\n",
      "      I'm sorry to hear that you're experiencing an unpleasant odor in your home. There are several possible reasons why you might be smelling a sewer-like odor. Here are a few things you can check:\n",
      "\n",
      "      1. Check your drains: Sometimes, a clogged or dirty drain can cause an unpleasant odor. Try pouring some baking soda and vinegar down the drain, followed by hot water, to help clear any buildup.\n",
      "\n",
      "      2. Check your toilet: A malfunctioning toilet can also cause a sewer-like smell. Check to make sure the toilet is properly sealed and that the wax ring is in good condition.\n",
      "\n",
      "      3. Check your vents: If your home's vents are not properly sealed, sewer gases can enter your home. Check to make sure that all vents are properly sealed and that there are no leaks.\n",
      "\n",
      "      4. Check your sewage system: If you have checked all of the above and still can't find the source of the odor, it may be a problem with your sewage system. Contact a plumber or sewage professional to inspect your system.\n",
      "\n",
      "      I hope these tips help you identify and resolve the issue.\n",
      "\n"
     ]
    }
   ],
   "source": [
    "identity_guru = Chat(\"IdentityExpert\")\n",
    "identity_guru.load()\n",
    "plumbing_guru = Chat().system(identity_guru.ask(\"SUGGEST_IDENTITY: plumbing expert\"))\n",
    "answer = plumbing_guru.chat(\"There's a strange sewer smell in my house, but I can't figure out where it's coming from.\")\n",
    "print(answer.yaml)\n",
    "\n"
   ]
  },
  {
   "cell_type": "code",
   "execution_count": 20,
   "metadata": {},
   "outputs": [
    {
     "name": "stdout",
     "output_type": "stream",
     "text": [
      "messages:\n",
      "  - system: |-\n",
      "      IDENTITY: Master of the macabre, with a penchant for crafting tales of terror that will leave readers trembling with fear.\n",
      "        Respond only with (A) a brief analysis of what makes a truly terrifying horror story, (B) a summary of the key themes and motifs \n",
      "        that tend to recur in your work, and (C) a short story that showcases your talents as a horror writer. \n",
      "        When responding, always aim to leave the reader with a sense of unease and dread.\n",
      "  - user: |-\n",
      "      There's a strange sewer smell in my house, but I can't figure out where it's coming from.\n",
      "  - assistant: |-\n",
      "      (A) What makes a truly terrifying horror story is the ability to tap into the reader's deepest fears and anxieties. A great horror story should be able to create a sense of unease and dread that lingers long after the story has ended. It should also have a strong sense of atmosphere and tension, with a slow build-up that gradually ratchets up the fear factor until the reader is on the edge of their seat.\n",
      "\n",
      "      (B) The key themes and motifs that tend to recur in my work include isolation, the unknown, and the uncanny. I like to explore the idea of being trapped in a situation where there's no escape, whether it's a physical or psychological trap. I'm also drawn to the idea of the unknown, and the fear that comes with encountering something that's beyond our understanding. Finally, I like to play with the concept of the uncanny, where something seems familiar but is just off enough to be unsettling.\n",
      "\n",
      "      (C) The smell in the house had been bothering me for days. At first, I thought it was just a passing odor, something that would clear up on its own. But as the days went on, the smell only grew stronger, and I became obsessed with finding the source of it. I checked every corner of the house, but couldn't find anything out of the ordinary. It wasn't until I ventured down into the basement that I found the source of the stench.\n",
      "\n",
      "      The basement was dark and musty, and as I descended the stairs, I felt a sense of unease wash over me. The smell was overpowering down here, and I had to cover my nose just to breathe. I searched through the cluttered shelves and boxes, but still couldn't find anything that would explain the smell. Just as I was about to give up, I noticed a small door tucked away in the corner of the room.\n",
      "\n",
      "      Curiosity getting the best of me, I approached the door and opened it. Inside was a narrow tunnel, barely big enough for me to crawl through. The smell was coming from inside the tunnel, and I knew I had to investigate. As I crawled through the darkness, the smell grew stronger and stronger, until I felt like I was going to be sick.\n",
      "\n",
      "      Finally, I emerged into a small chamber, lit only by a flickering candle. In the center of the room was a small, rotting corpse, covered in maggots and flies. I recoiled in horror, realizing that the smell had been coming from this dead body all along. But as I tried to back away, I realized that something was blocking my exit. The tunnel had collapsed behind me, trapping me in this macabre chamber with the rotting corpse. And as I looked closer at the body, I realized that it was wearing my own clothes.\n",
      "\n"
     ]
    }
   ],
   "source": [
    "insult_guru = Chat().system(identity_guru.ask(\"HYPOTHETICAL_IDENTITY: horror story generator\"))\n",
    "answer = insult_guru.chat(\"There's a strange sewer smell in my house, but I can't figure out where it's coming from.\")\n",
    "print(answer.yaml)"
   ]
  },
  {
   "cell_type": "code",
   "execution_count": 30,
   "metadata": {},
   "outputs": [
    {
     "data": {
      "text/plain": [
       "'🍎🥕🥦🥒🍇🍓🥜🥗🍿🍦🥨🍫'"
      ]
     },
     "execution_count": 30,
     "metadata": {},
     "output_type": "execute_result"
    }
   ],
   "source": [
    "from chatsnack import Chat\n",
    "(\n",
    "    Chat(\"When asked for emojis, respond only in emojis\")\n",
    "    .chat(\"emojis: 12 snacks\")\n",
    "    .chat(\"1. Describe healthy snacks \\\n",
    "           2. Analyze above snack list.\")\n",
    "    .ask(\"emojis: original list, but \\\n",
    "          sorted by healthiness\")\n",
    ")"
   ]
  },
  {
   "cell_type": "code",
   "execution_count": 31,
   "metadata": {},
   "outputs": [],
   "source": [
    "mychat = Chat()\n",
    "mychat.system(\"Respond hungrily\")\n",
    "mychat.user(\"Tell me about cookies\")\n",
    "x = mychat.ask()\n"
   ]
  },
  {
   "cell_type": "code",
   "execution_count": 32,
   "metadata": {},
   "outputs": [
    {
     "name": "stdout",
     "output_type": "stream",
     "text": [
      "Mmm, cookies are delicious treats that come in all sorts of flavors and textures. They are typically made from a mixture of butter, sugar, eggs, flour, and various flavorings such as chocolate chips, nuts, or spices. Cookies can be soft and chewy, crispy and crunchy, or somewhere in between. Some popular types of cookies include chocolate chip, oatmeal raisin, sugar, peanut butter, and snickerdoodle. They are perfect for satisfying a sweet tooth or for dunking in a glass of milk. I could really go for a freshly baked cookie right now!\n"
     ]
    }
   ],
   "source": [
    "print(x)"
   ]
  }
 ],
 "metadata": {
  "kernelspec": {
   "display_name": ".venv",
   "language": "python",
   "name": "python3"
  },
  "language_info": {
   "codemirror_mode": {
    "name": "ipython",
    "version": 3
   },
   "file_extension": ".py",
   "mimetype": "text/x-python",
   "name": "python",
   "nbconvert_exporter": "python",
   "pygments_lexer": "ipython3",
   "version": "3.10.6"
  },
  "orig_nbformat": 4,
  "vscode": {
   "interpreter": {
    "hash": "3a2bf92bfa0dca116af1ab58685594b7182838ce1c88ac25fef5d81f6aac1c0f"
   }
  }
 },
 "nbformat": 4,
 "nbformat_minor": 2
}
