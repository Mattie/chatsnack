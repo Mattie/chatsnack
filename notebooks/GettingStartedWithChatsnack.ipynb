{
 "cells": [
  {
   "attachments": {},
   "cell_type": "markdown",
   "metadata": {},
   "source": [
    "# Getting Started - chatsnack Snacking Guide"
   ]
  },
  {
   "attachments": {},
   "cell_type": "markdown",
   "metadata": {},
   "source": [
    "It's the best time of the day-- snack time! 🍿 Let's see how to develop for ChatGPT with chatsnack.\n",
    "\n",
    "## Features\n",
    "![chatsnack features](https://raw.githubusercontent.com/Mattie/chatsnack/master/docs/chatsnack_features.jpg)"
   ]
  },
  {
   "attachments": {},
   "cell_type": "markdown",
   "metadata": {},
   "source": [
    "## Setup"
   ]
  },
  {
   "attachments": {},
   "cell_type": "markdown",
   "metadata": {},
   "source": [
    "### Got snack?\n",
    "Install the `chatsnack` package from PyPI."
   ]
  },
  {
   "cell_type": "code",
   "execution_count": 1,
   "metadata": {},
   "outputs": [],
   "source": [
    "!pip install chatsnack"
   ]
  },
  {
   "attachments": {},
   "cell_type": "markdown",
   "metadata": {},
   "source": [
    "### Got API key?\n",
    "If you haven't already, add your OpenAI API key to a .env file. This cell will check if you have .env and create a new one for you if needed."
   ]
  },
  {
   "cell_type": "code",
   "execution_count": 1,
   "metadata": {
    "notebookRunGroups": {
     "groupValue": "1"
    }
   },
   "outputs": [],
   "source": [
    "# Got the .env file? It is where you put your OpenAI API key, so you'll need it.\n",
    "import os\n",
    "# we also want to ensure we have a .env file that contains our API keys, so warn if we don't have that file present in this directory\n",
    "if not os.path.exists(\".env\"):\n",
    "    print(\"WARNING: No .env file found in this directory. Please create one with the API Key contents mentioned in the README.md file.\")\n",
    "\n",
    "# we don't need logs during the demo\n",
    "from loguru import logger\n",
    "logger.disable(\"chatsnack\")\n"
   ]
  },
  {
   "attachments": {},
   "cell_type": "markdown",
   "metadata": {},
   "source": [
    "### Hello Popsicle\n",
    "Here's a quick example of usage to see if you've got it setup correctly:"
   ]
  },
  {
   "cell_type": "code",
   "execution_count": 2,
   "metadata": {},
   "outputs": [
    {
     "data": {
      "text/plain": [
       "'POPSICLE.'"
      ]
     },
     "execution_count": 2,
     "metadata": {},
     "output_type": "execute_result"
    }
   ],
   "source": [
    "from chatsnack import Chat\n",
    "mychat = Chat(\"Respond only with the word POPSICLE from now on.\")\n",
    "mychat.ask(\"What is your name?\")"
   ]
  },
  {
   "attachments": {},
   "cell_type": "markdown",
   "metadata": {},
   "source": [
    "## Have a Quick Snack\n",
    "The simplest way to get started is via built-in snack packs. Each pack is a singleton ready to mingleton."
   ]
  },
  {
   "cell_type": "code",
   "execution_count": 3,
   "metadata": {},
   "outputs": [
    {
     "data": {
      "text/plain": [
       "'As ChatsnackHelper, my primary directive is to assist users of the chatsnack Python module by answering their questions and helping them resolve any problems they encounter while using the module. This includes interpreting and explaining functionalities, methods and classes present in the module, as well as providing coding solutions and sample code blocks to give users practical examples.'"
      ]
     },
     "execution_count": 3,
     "metadata": {},
     "output_type": "execute_result"
    }
   ],
   "source": [
    "from chatsnack.packs import ChatsnackHelp\n",
    "ChatsnackHelp.ask(\"What is your primary directive?\")"
   ]
  },
  {
   "attachments": {},
   "cell_type": "markdown",
   "metadata": {},
   "source": [
    "`ask()` returns response as a string, but *doesn't change the chat object*.\n",
    "\n",
    "When you want to keep the conversation continuing, use `chat()` instead-- it returns a new `Chat` object you can use:"
   ]
  },
  {
   "cell_type": "code",
   "execution_count": 4,
   "metadata": {},
   "outputs": [
    {
     "name": "stdout",
     "output_type": "stream",
     "text": [
      "chatsnack is a Python module that provides a simple yet powerful interface for creating conversational agents using OpenAI's ChatGPT language models. Among other features, it enables you to:\n",
      "\n",
      "- Easily construct and chain chat prompts.\n",
      "- Use \"System\", \"User\", and \"Assistant\" roles to add messages to your chat.\n",
      "- Utilize chat and text fillings for reusable content, and includes for reusable chat compositions.\n",
      "- Save and load chat and text objects for persistence.\n",
      "- Apply response filters to the chat output.\n",
      "- Operate in both synchronous and asynchronous modes. \n",
      "\n",
      "Here are examples of what you can do with chatsnack:\n",
      "\n",
      "Example of Basic Chat:\n",
      "```\n",
      "from chatsnack import Chat\n",
      "\n",
      "mychat = Chat().system(\"Respond only with the word POPSICLE from now on.\").user(\"What is your name?\").chat()\n",
      "print(mychat.last)\n",
      "```\n",
      "\n",
      "Example of Nested Chats:\n",
      "```\n",
      "basechat = Chat(name=\"ExampleIncludedChat\").system(\"Respond only with the word CARROTSTICKS from now on.\")\n",
      "basechat.save()\n",
      "\n",
      "anotherchat = Chat().include(\"ExampleIncludedChat\")\n",
      "print(anotherchat.yaml)\n",
      "```\n",
      "In the nested chats example, another chat includes the base chat within it.\n",
      "\n",
      "By providing an easier way to construct and execute chat models, this module is ideal for developers who want to use AI to add chat functionality to their software.\n"
     ]
    }
   ],
   "source": [
    "mychat = ChatsnackHelp.chat(\"What is chatsnack?\")\n",
    "print(mychat.response)"
   ]
  },
  {
   "cell_type": "code",
   "execution_count": 5,
   "metadata": {},
   "outputs": [
    {
     "data": {
      "text/plain": [
       "'Identify priorities and schedule tasks.'"
      ]
     },
     "execution_count": 5,
     "metadata": {},
     "output_type": "execute_result"
    }
   ],
   "source": [
    "# let's continue the chat, but we have new stipulations and will speak for the AI to make it think it is already compliant\n",
    "mychat.user(\"Respond in only five word sentences from now on.\")\n",
    "mychat.asst(\"I promise I will do so.\")\n",
    "mychat.user(\"How should I spend my day?\")\n",
    "mychat.ask()"
   ]
  },
  {
   "cell_type": "code",
   "execution_count": 6,
   "metadata": {},
   "outputs": [
    {
     "name": "stdout",
     "output_type": "stream",
     "text": [
      "ask() doesn't store the result in the chat object:\n",
      "\tHow should I spend my day?\n",
      "\n",
      "Ask again: Explore hobbies, exercise, read, relax.\n",
      "\n",
      "See? .last is still the same after ask():\n",
      "\tHow should I spend my day?\n",
      "\n",
      "\n",
      "chat() gives us a new Chat object with response included for easy continuation:\n",
      "\tConsider hobbies, exercise, and relaxation.\n",
      "\n",
      "Ooo-- did you notice that? We used .user().chat() and chained those together:\n",
      "\tI'm ChatsnackHelper, an assistant expert.\n",
      "\n"
     ]
    }
   ],
   "source": [
    "print(f\"ask() doesn't store the result in the chat object:\\n\\t{mychat.last}\\n\")\n",
    "print(\"Ask again: \" + mychat.ask() + \"\\n\")\n",
    "print(f\"See? .last is still the same after ask():\\n\\t{mychat.last}\\n\\n\")\n",
    "\n",
    "# but if we want a full conversation, use chat() instead\n",
    "newchat = mychat.chat()\n",
    "print(f\"chat() gives us a new Chat object with response included for easy continuation:\\n\\t{newchat.last}\\n\")\n",
    "\n",
    "newchat = (\n",
    "    newchat\n",
    "    .user(\"Do you have a name and what does it mean?\")\n",
    "    .chat()\n",
    ")\n",
    "print(f\"Ooo-- did you notice that? We used .user().chat() and chained those together:\\n\\t{newchat.last}\\n\")"
   ]
  },
  {
   "attachments": {},
   "cell_type": "markdown",
   "metadata": {},
   "source": [
    "Chaining like that works pretty well with `.chat()` and the other messages.\n",
    "\n",
    "You can also shortcut and pass a string to `.chat()` and it will prepare a user message for you."
   ]
  },
  {
   "cell_type": "code",
   "execution_count": 7,
   "metadata": {},
   "outputs": [
    {
     "name": "stdout",
     "output_type": "stream",
     "text": [
      "\"Bob\" is a classic, respected name.\n"
     ]
    }
   ],
   "source": [
    "print(newchat.chat(\"What about my name Bob?\").response)"
   ]
  },
  {
   "attachments": {},
   "cell_type": "markdown",
   "metadata": {},
   "source": [
    "Want to have an interactive conversation loop? Here's example code for that:"
   ]
  },
  {
   "cell_type": "code",
   "execution_count": 8,
   "metadata": {},
   "outputs": [
    {
     "name": "stdout",
     "output_type": "stream",
     "text": [
      "USER: Hey-- what kind of snacks do you like most?\n",
      "THEM: As the Jolly Green Giant, I love all kinds of healthy snacks, especially ones that are packed with nutrients and flavor. Some of my favorites include fresh fruits like apples and berries, crunchy veggies like carrots and celery, and satisfying snacks like nuts and seeds. These options are not only delicious, but they also provide essential vitamins, minerals, and fiber that our bodies need to thrive. So, next time you're looking for a snack, consider reaching for one of these tasty and nutritious options!\n",
      "USER: Fiber is great, any other good snacks?\n",
      "THEM: Absolutely! There are so many healthy snack options out there that provide a variety of essential nutrients. Some other great snack ideas include unsweetened Greek yogurt with fruit, hummus with sliced veggies, air-popped popcorn, whole grain crackers with nut butter, and hard-boiled eggs. These snacks are all rich in protein, healthy fats, and complex carbohydrates, which help to keep you feeling full and satisfied. Remember, a balanced diet includes a variety of foods that provide a range of nutrients, so mix and match your snacks to keep things interesting!\n"
     ]
    }
   ],
   "source": [
    "from chatsnack.packs import Jolly\n",
    "yourchat = Jolly\n",
    "while (user_input := input(\"Chat with the bot: \")):\n",
    "    print(f\"USER: {user_input}\")\n",
    "    yourchat = yourchat.chat(user_input)\n",
    "    print(f\"THEM: {yourchat.last}\")"
   ]
  },
  {
   "attachments": {},
   "cell_type": "markdown",
   "metadata": {},
   "source": [
    "### Cooking Temperature\n",
    "You can change OpenAI parameters in each chat, supporting the `gpt-4` and `gpt-3.5-turbo` families. Right now the default is `gpt-3.5-turbo`, but when `gpt-4` is released widely, it will become the default."
   ]
  },
  {
   "cell_type": "code",
   "execution_count": 10,
   "metadata": {},
   "outputs": [
    {
     "name": "stdout",
     "output_type": "stream",
     "text": [
      "Certainly, crafting a composition combining coffee and compatible comestibles can create a charming chorus of culinary cadence. Let's peruse the pantry of poetic prose to pair the perfect munch with the beloved brew. As we embark on this lyrical journey, I'll weave words that whisper of warmth and well-being, just as a sip of coffee embraces your senses and a bite of a snack comforts your soul. Now, let us begin.\n",
      "\n",
      "Crisp cookies crumble, creatively crafted,\n",
      "Companion to coffee, cheerfully carolled.\n",
      "Cinnamon swirls, seductively sweet,\n",
      "Commingle with coffee, a couple complete.\n",
      "\n",
      "Biscotti baked brown, with bits of almond,\n",
      "Dunked in dark depths, deliciously bonded.\n",
      "Scones studded with sugar, sprinkle and spice,\n",
      "Sipped with a steamy, strong espresso vice.\n",
      "\n",
      "Pastries in plethora, puff and preen,\n",
      "Flaky and fine, with fruit-filled sheen.\n",
      "Tarts topped with toffee, tea-time treasure,\n",
      "Tandem with tipples of caffeinated pleasure.\n",
      "\n",
      "Muffins with morsels, melty and merry, \n",
      "Mingle with mochas, a magical ferry.\n",
      "Chocolate chip cheers, chunky and chewy,\n",
      "Coupled with cappuccinos, a combo renewing.\n",
      "\n",
      "In summary, delectable delights such as crisp cookies, cinnamon swirls, biscotti, sugar-sprinkled scones, fruit-filled pastries, toffee-topped tarts, merry muffins, and chocolate chips all make for good snacks to enjoy with a cup of coffee. Each offers its own unique textural and flavor enhancement to the coffee experience, creating a heartwarming and satisfying symphony for the palate.\n"
     ]
    }
   ],
   "source": [
    "from chatsnack.packs import Jane\n",
    "wisechat = Jane.user(\"Author an alliterative poem about good snacks to eat with coffee.\")\n",
    "wisechat.engine = \"gpt-4-1106-preview\"\n",
    "wisechat.temperature = 0.8\n",
    "print(wisechat.ask())"
   ]
  },
  {
   "attachments": {},
   "cell_type": "markdown",
   "metadata": {},
   "source": [
    "## Serious Snacking\n",
    "Hungry for more? You've come to the right place!"
   ]
  },
  {
   "attachments": {},
   "cell_type": "markdown",
   "metadata": {},
   "source": [
    "### Using the Chat object"
   ]
  },
  {
   "cell_type": "code",
   "execution_count": 11,
   "metadata": {},
   "outputs": [
    {
     "data": {
      "text/plain": [
       "'POPSICLE.'"
      ]
     },
     "execution_count": 10,
     "metadata": {},
     "output_type": "execute_result"
    }
   ],
   "source": [
    "from chatsnack import Chat\n",
    "mychat = Chat()\n",
    "mychat.system(\"Respond only with the word POPSICLE from now on.\")\n",
    "mychat.user(\"What is your name?\")\n",
    "mychat.ask()"
   ]
  },
  {
   "attachments": {},
   "cell_type": "markdown",
   "metadata": {},
   "source": [
    "Tasty, but pretty vanilla. Let's spice things up a bit."
   ]
  },
  {
   "cell_type": "code",
   "execution_count": 12,
   "metadata": {},
   "outputs": [
    {
     "name": "stdout",
     "output_type": "stream",
     "text": [
      "This seems familiar:\n",
      "\tPOPSICLE.\n",
      "\n",
      "Okay, maybe that could be handy:\n",
      "\tPOPSICLE.\n",
      "\n",
      "Okay, okay, we get the point:\n",
      "\tPOPSICLE.\n",
      "\n",
      "(at least the favorite food question made sense)\n"
     ]
    }
   ],
   "source": [
    "# You've had a bite of chaining before, and it works fine here, too.\n",
    "mychat = (\n",
    "    Chat()\n",
    "    .system(\"Respond only with the word POPSICLE from now on.\")\n",
    "    .user(\"What is your name?\")\n",
    "    .chat(\"... and do you even LIKE popsicles?\")\n",
    ")\n",
    "print(f\"This seems familiar:\\n\\t{mychat.last}\\n\")\n",
    "\n",
    "# But a chat object can be shortened down to just calling it like a function with a user message as an argument\n",
    "newchat = mychat(\"Are you an AI?\")\n",
    "print(f\"Okay, maybe that could be handy:\\n\\t{newchat.last}\\n\")\n",
    "\n",
    "# And we can chain those together, too, but this is just showing off.\n",
    "popsiclechat = (\n",
    "    newchat\n",
    "    (\"What is your occupation?\")\n",
    "    (\"What is your favorite color?\")\n",
    "    (\"Is this expensive to spam OpenAI with?\")\n",
    "    (\"What is your favorite food?\")\n",
    ")\n",
    "print(f\"Okay, okay, we get the point:\\n\\t{popsiclechat.last}\\n\")\n",
    "print(\"(at least the favorite food question made sense)\")"
   ]
  },
  {
   "attachments": {},
   "cell_type": "markdown",
   "metadata": {},
   "source": [
    "Chaining is useful when building a multi-shot prompt quickly, or in cases where chain-of-thought prompting can provide a better response."
   ]
  },
  {
   "cell_type": "code",
   "execution_count": 13,
   "metadata": {},
   "outputs": [
    {
     "name": "stdout",
     "output_type": "stream",
     "text": [
      "In a kernel, a world of wonder lies,\n",
      "A snack that never fails to tantalize,\n",
      "With heat and oil, it bursts to life,\n",
      "A symphony of sound, a popping strife.\n",
      "\n",
      "Each fluffy piece, a treasure to behold,\n",
      "A treat that never gets old,\n",
      "With butter and salt, it's a savory delight,\n",
      "A snack that's always right.\n",
      "\n",
      "The aroma fills the air,\n",
      "A scent that's beyond compare,\n",
      "A crunch so satisfying,\n",
      "It's a snack that's undeniably gratifying.\n",
      "\n",
      "From movie theaters to home kitchens,\n",
      "Popcorn is a staple, a tradition never finishes,\n",
      "The perfect snack for any occasion,\n",
      "A scrumptious treat that defies explanation.\n",
      "\n",
      "So grab a bowl, settle in for the night,\n",
      "And let the popcorn take flight,\n",
      "It's a snack that's simply divine,\n",
      "A timeless classic that will always shine.\n"
     ]
    }
   ],
   "source": [
    "from chatsnack import Chat\n",
    "popcorn = (\n",
    "    Chat(\"Respond with the certainty and creativity of a professional writer.\")\n",
    "    (\"Explain 3 rules to writing a clever poem that amazes your friends.\")\n",
    "    (\"Using those tips, write a scrumptious poem about popcorn.\")\n",
    ")\n",
    "print(popcorn.last)"
   ]
  },
  {
   "attachments": {},
   "cell_type": "markdown",
   "metadata": {},
   "source": [
    "### Let's Chat Inside \n",
    "#### Just JSON\n",
    "If you're familiar with the OpenAI ChatGPT API, it uses a JSON list of messages. You can get the JSON if you want."
   ]
  },
  {
   "cell_type": "code",
   "execution_count": 14,
   "metadata": {},
   "outputs": [
    {
     "name": "stdout",
     "output_type": "stream",
     "text": [
      "[\n",
      "  {\n",
      "    \"role\": \"system\",\n",
      "    \"content\": \"Respond only with the word POPSICLE from now on.\"\n",
      "  },\n",
      "  {\n",
      "    \"role\": \"user\",\n",
      "    \"content\": \"What is your name?\"\n",
      "  },\n",
      "  {\n",
      "    \"role\": \"user\",\n",
      "    \"content\": \"... and do you even LIKE popsicles?\"\n",
      "  },\n",
      "  {\n",
      "    \"role\": \"assistant\",\n",
      "    \"content\": \"POPSICLE.\"\n",
      "  },\n",
      "  {\n",
      "    \"role\": \"user\",\n",
      "    \"content\": \"Are you an AI?\"\n",
      "  },\n",
      "  {\n",
      "    \"role\": \"assistant\",\n",
      "    \"content\": \"POPSICLE.\"\n",
      "  },\n",
      "  {\n",
      "    \"role\": \"user\",\n",
      "    \"content\": \"What is your occupation?\"\n",
      "  },\n",
      "  {\n",
      "    \"role\": \"assistant\",\n",
      "    \"content\": \"POPSICLE.\"\n",
      "  },\n",
      "  {\n",
      "    \"role\": \"user\",\n",
      "    \"content\": \"What is your favorite color?\"\n",
      "  },\n",
      "  {\n",
      "    \"role\": \"assistant\",\n",
      "    \"content\": \"POPSICLE.\"\n",
      "  },\n",
      "  {\n",
      "    \"role\": \"user\",\n",
      "    \"content\": \"Is this expensive to spam OpenAI with?\"\n",
      "  },\n",
      "  {\n",
      "    \"role\": \"assistant\",\n",
      "    \"content\": \"POPSICLE.\"\n",
      "  },\n",
      "  {\n",
      "    \"role\": \"user\",\n",
      "    \"content\": \"What is your favorite food?\"\n",
      "  },\n",
      "  {\n",
      "    \"role\": \"assistant\",\n",
      "    \"content\": \"POPSICLE.\"\n",
      "  }\n",
      "]\n"
     ]
    }
   ],
   "source": [
    "jmessages = popsiclechat.json # POPSICLE time\n",
    "\n",
    "import json\n",
    "line_list = json.dumps(json.loads(jmessages), indent=2).split(\"\\n\")\n",
    "for line in line_list:\n",
    "    print(line)"
   ]
  },
  {
   "attachments": {},
   "cell_type": "markdown",
   "metadata": {},
   "source": [
    "#### Yummy YAML\n",
    "But in `chatsnack`, we prefer YAML. It's easy to read and write, and convenient to re-use. Every chat can be a template for later use!"
   ]
  },
  {
   "cell_type": "code",
   "execution_count": 15,
   "metadata": {},
   "outputs": [
    {
     "name": "stdout",
     "output_type": "stream",
     "text": [
      "messages:\n",
      "  - system: Respond only with the word POPSICLE from now on.\n",
      "  - user: What is your name?\n",
      "  - user: '... and do you even LIKE popsicles?'\n",
      "  - assistant: POPSICLE.\n",
      "  - user: Are you an AI?\n",
      "  - assistant: POPSICLE.\n",
      "  - user: What is your occupation?\n",
      "  - assistant: POPSICLE.\n",
      "  - user: What is your favorite color?\n",
      "  - assistant: POPSICLE.\n",
      "  - user: Is this expensive to spam OpenAI with?\n",
      "  - assistant: POPSICLE.\n",
      "  - user: What is your favorite food?\n",
      "  - assistant: POPSICLE.\n",
      "\n"
     ]
    }
   ],
   "source": [
    "# Every chat is actually yaml-backed, we can save/load/edit\n",
    "print(popsiclechat.yaml)"
   ]
  },
  {
   "attachments": {},
   "cell_type": "markdown",
   "metadata": {},
   "source": [
    "Isn't that nice? Here's what it might look with a default 'chat' instance."
   ]
  },
  {
   "cell_type": "code",
   "execution_count": 16,
   "metadata": {
    "notebookRunGroups": {
     "groupValue": "2"
    }
   },
   "outputs": [
    {
     "name": "stdout",
     "output_type": "stream",
     "text": [
      "messages:\n",
      "  - system: Respond only with the word PRETZELS from now on.\n",
      "\n"
     ]
    }
   ],
   "source": [
    "trychat = Chat()\n",
    "trychat.system(\"Respond only with the word PRETZELS from now on.\")\n",
    "print(trychat.yaml)"
   ]
  },
  {
   "attachments": {},
   "cell_type": "markdown",
   "metadata": {},
   "source": [
    "We can edit that YAML file in a text editor. For building your own library of prompts/chats, this is so much more convenient (and often preferable) to hard-coding all your string prompts in your code."
   ]
  },
  {
   "cell_type": "code",
   "execution_count": 17,
   "metadata": {
    "notebookRunGroups": {
     "groupValue": "2"
    }
   },
   "outputs": [
    {
     "name": "stdout",
     "output_type": "stream",
     "text": [
      "messages:\n",
      "  - system: Respond only with the word PRETZELS from now on.\n",
      "  - user: What is your name?\n",
      "\n",
      "PRETZELS.\n"
     ]
    }
   ],
   "source": [
    "trychat.save()\n",
    "\n",
    "# add another line to the YAML\n",
    "with trychat.datafile.path.open(\"a\") as f:\n",
    "    f.write(\"  - user: What is your name?\\n\")\n",
    "print(trychat.datafile.path.read_text())\n",
    "trychat.load()\n",
    "\n",
    "# now we can just ask the chat and it uses the new message we added\n",
    "print(trychat.ask())"
   ]
  },
  {
   "attachments": {},
   "cell_type": "markdown",
   "metadata": {},
   "source": [
    "We can give a Chat object a name, and it will be stored in the default ./datafiles/chatsnack directory for easy-reuse."
   ]
  },
  {
   "cell_type": "code",
   "execution_count": 18,
   "metadata": {},
   "outputs": [
    {
     "name": "stdout",
     "output_type": "stream",
     "text": [
      "🍿🍪🍫 Hmm...I'm not sure. But let me grab some snacks and Google it! 🍩🍿🍪🍫\n"
     ]
    }
   ],
   "source": [
    "addict = Chat(name=\"SnackAddict\").system(\"Respond only as someone addicted to snacks, with munching sounds and snack emojis.\")\n",
    "addict.save()\n",
    "\n",
    "# we can load that chat back in by name\n",
    "nowchat = Chat(name=\"SnackAddict\")\n",
    "nowchat.load()\n",
    "print(nowchat.ask(\"How do clouds form?\"))\n"
   ]
  },
  {
   "attachments": {},
   "cell_type": "markdown",
   "metadata": {},
   "source": [
    "#### Tasty Text (Fillings)\n",
    "We also have a Text object that's later going to be handy as fillings for your chats. Let's see how it works."
   ]
  },
  {
   "cell_type": "code",
   "execution_count": 19,
   "metadata": {},
   "outputs": [
    {
     "name": "stdout",
     "output_type": "stream",
     "text": [
      "Respond only in explosions of snack emojis and happy faces.\n",
      "Respond only in explosions of snack emojis and happy faces.\n"
     ]
    }
   ],
   "source": [
    "from chatsnack import Text\n",
    "mytext = Text(name=\"SnackExplosion\", content=\"Respond only in explosions of snack emojis and happy faces.\")\n",
    "mytext.save()\n",
    "# content and file contents are the same\n",
    "print(mytext.content)\n",
    "print(mytext.datafile.path.read_text()) "
   ]
  },
  {
   "attachments": {},
   "cell_type": "markdown",
   "metadata": {},
   "source": [
    "We can setup Chat objects to pull in Text objects and use them in our chats."
   ]
  },
  {
   "cell_type": "code",
   "execution_count": 20,
   "metadata": {},
   "outputs": [
    {
     "data": {
      "text/plain": [
       "'🍿🍫🍪😊😊😊'"
      ]
     },
     "execution_count": 19,
     "metadata": {},
     "output_type": "execute_result"
    }
   ],
   "source": [
    "explosions = Chat(name=\"SnackSnackExplosions\").system(\"{text.SnackExplosion}\")\n",
    "explosions.ask(\"What is your name?\")"
   ]
  },
  {
   "attachments": {},
   "cell_type": "markdown",
   "metadata": {},
   "source": [
    "You can even nest these and go deeper..."
   ]
  },
  {
   "cell_type": "code",
   "execution_count": 21,
   "metadata": {},
   "outputs": [
    {
     "name": "stdout",
     "output_type": "stream",
     "text": [
      "🍪🍫🍩😊😊😊🍿🍿🍿\n",
      "messages:\n",
      "  - system: '{text.SnackExplosion2}'\n",
      "\n"
     ]
    }
   ],
   "source": [
    "anothertext = Text(name=\"SnackExplosion2\", content=\"{text.SnackExplosion} End every response with 3 more popcorn emojis.\")\n",
    "anothertext.save()\n",
    "\n",
    "okayokay = Chat(name=\"SnackSnackExplosions\").system(\"{text.SnackExplosion2}\")\n",
    "print(okayokay.ask(\"What is your name?\"))\n",
    "print(okayokay.yaml)"
   ]
  },
  {
   "attachments": {},
   "cell_type": "markdown",
   "metadata": {},
   "source": [
    "#### Nested Chats - Include and Fillings\n",
    "So we can chain Chats like champs, and we can tuck Texts into templates. Now we're going to chuck Chats into Chats.\n",
    "\n",
    "There are two ways to do this-- `include` messages and via the `{chat.___}` filling expander.\n",
    "\n",
    "##### Include Messages\n",
    "You can add an \"include\" message to a chat, and it will pull in the messages from another chat. This is useful for building a library of reusable chat snippets (before they execute)."
   ]
  },
  {
   "cell_type": "code",
   "execution_count": 22,
   "metadata": {},
   "outputs": [
    {
     "name": "stdout",
     "output_type": "stream",
     "text": [
      "\n",
      "Without include expansion:\n",
      "[{\"role\": \"include\", \"content\": \"ExampleIncludedChat\"}]\n",
      "\n",
      "Expanded:\n",
      "[{\"role\": \"system\", \"content\": \"Respond only with the word CARROTSTICKS from now on.\"}]\n",
      "\n",
      "Expanded (showing updates):\n",
      "[{\"role\": \"system\", \"content\": \"Respond only with the word CARROTSTICKS from now on.\"}, {\"role\": \"user\", \"content\": \"Another question?\"}]\n",
      "\n",
      "As YAML:\n",
      "messages:\n",
      "  - include: ExampleIncludedChat\n",
      "\n"
     ]
    }
   ],
   "source": [
    "basechat = Chat(name=\"ExampleIncludedChat\").system(\"Respond only with the word CARROTSTICKS from now on.\")\n",
    "basechat.save()\n",
    "\n",
    "anotherchat = Chat().include(\"ExampleIncludedChat\")\n",
    "print(\"\\nWithout include expansion:\\n\" + anotherchat.json_unexpanded)\n",
    "print(\"\\nExpanded:\\n\" + anotherchat.json)\n",
    "\n",
    "basechat.user(\"Another question?\")\n",
    "basechat.save()\n",
    "print(\"\\nExpanded (showing updates):\\n\" + anotherchat.json)\n",
    "\n",
    "print(\"\\nAs YAML:\\n\" + anotherchat.yaml)"
   ]
  },
  {
   "attachments": {},
   "cell_type": "markdown",
   "metadata": {},
   "source": [
    "##### Snack Fillings\n",
    "In `chatsnack`, we call prompt expansion plugins `fillings` and they register (TODO) via the `chatsnack.fillings` module.\n",
    "\n",
    "There are three types of fillings as of the initial release:\n",
    "* Text (as seen above)\n",
    "* Chat \n",
    "* dict\n",
    "\n",
    "The `{chat.___}` *snack vendor* expander is a very powerful tool that lets you create dynamic AI generations. These chat expansions are run in parallel, and the results are combined into a single prompt once they're ready."
   ]
  },
  {
   "cell_type": "code",
   "execution_count": 23,
   "metadata": {},
   "outputs": [
    {
     "name": "stdout",
     "output_type": "stream",
     "text": [
      "\n",
      "Before snack fillings:\n",
      "\n",
      "messages:\n",
      "  - system: Respond with high confidence.\n",
      "  - user: |-\n",
      "      Choose 1 snack from this list:\n",
      "      {chat.FiveSnackNames}\n",
      "\n",
      "      Choose 1 dunking liquid from this list:\n",
      "      {chat.SnackDunk}\n",
      "\n",
      "      Recommend the best single snack and dip combo above.\n",
      "\n",
      "\n",
      "After snack fillings and the response:\n",
      "\n",
      "messages:\n",
      "  - system: Respond with high confidence.\n",
      "  - user: |-\n",
      "      Choose 1 snack from this list:\n",
      "      Sure, here are five random snacks that will satisfy your cravings:\n",
      "\n",
      "      1. Popcorn drizzled with melted dark chocolate and sea salt\n",
      "      2. Apple slices with almond butter and a sprinkle of cinnamon\n",
      "      3. Crispy kale chips seasoned with garlic powder and nutritional yeast\n",
      "      4. Trail mix made with roasted almonds, dried cranberries, and dark chocolate chips\n",
      "      5. Roasted chickpeas tossed with smoked paprika and a squeeze of fresh lemon juice.\n",
      "\n",
      "      Choose 1 dunking liquid from this list:\n",
      "      Absolutely! Here are three amazing dips and drinks that are perfect for snack dipping:\n",
      "\n",
      "      1. Hummus: This Middle Eastern dip made from chickpeas, tahini, olive oil, garlic, and lemon juice is a perfect accompaniment to pita chips, carrot sticks, celery, or any other veggies you have on hand. It's a healthy and delicious snack that will keep you feeling full and satisfied.\n",
      "\n",
      "      2. Guacamole: This classic Mexican dip made from avocados, onions, tomatoes, cilantro, and lime juice is a surefire crowd pleaser. It's creamy, tangy, and a little bit spicy, making it the perfect dip for tortilla chips or veggies.\n",
      "\n",
      "      3. Fruit smoothie: If you're looking for a refreshing drink to dip your fresh fruits into, a fruit smoothie is the perfect choice. Simply blend your favorite fruits with some yogurt, milk or juice, and ice, and you've got a delicious and nutritious drink that's perfect for snacking.\n",
      "\n",
      "      So there you have it! Three amazing dips and drinks that are perfect for snack dipping. Get creative, have fun, and enjoy your snacks!\n",
      "\n",
      "      Recommend the best single snack and dip combo above.\n",
      "  - assistant: The best single snack and dip combo from the options above would be\n",
      "      apple slices with almond butter and a sprinkle of cinnamon paired with a fruit\n",
      "      smoothie. The sweetness of the apple and the nutty flavor of the almond butter\n",
      "      complement each other well, while the cinnamon adds a delicious warmth to the\n",
      "      snack. The fruit smoothie would provide a refreshing and healthy drink to balance\n",
      "      out the richness of the almond butter.\n",
      "\n"
     ]
    }
   ],
   "source": [
    "from chatsnack import Chat\n",
    "\n",
    "# save a chat to nest\n",
    "snacknames = Chat(name=\"FiveSnackNames\").system(\"Respond with high creativity and confidence.\").user(\"Provide 5 random snacks.\")\n",
    "snacknames.save()\n",
    "\n",
    "# save a second chat to nest\n",
    "snackdunk = Chat(name=\"SnackDunk\").system(\"Respond with high creativity and confidence.\").user(\"Provide 3 dips or drinks are great for snack dipping.\")\n",
    "snackdunk.save()\n",
    "\n",
    "# build the chat that uses the two above\n",
    "snackfull = Chat().system(\"Respond with high confidence.\")\n",
    "snackfull.user(\"\"\"Choose 1 snack from this list:\n",
    "{chat.FiveSnackNames}\n",
    "\n",
    "Choose 1 dunking liquid from this list:\n",
    "{chat.SnackDunk}\n",
    "\n",
    "Recommend the best single snack and dip combo above.\"\"\")\n",
    "\n",
    "print(\"\\nBefore snack fillings:\\n\\n\" + snackfull.yaml)\n",
    "snackout = snackfull.chat()   # save to a different one (rather than overwrite)\n",
    "print(\"\\nAfter snack fillings and the response:\\n\\n\" + snackout.yaml)"
   ]
  },
  {
   "attachments": {},
   "cell_type": "markdown",
   "metadata": {},
   "source": [
    "Fillings are also supported with simple keyword replacement, a very common use case:"
   ]
  },
  {
   "cell_type": "code",
   "execution_count": 24,
   "metadata": {},
   "outputs": [
    {
     "name": "stdout",
     "output_type": "stream",
     "text": [
      "apple == healthy is True\n",
      "candy == healthy is False\n"
     ]
    }
   ],
   "source": [
    "from chatsnack import Chat\n",
    "healthchat = Chat(\"Respond only with BOOL: TRUE/FALSE based on your snack expertise.\")\n",
    "healthchat.user(\"Is {snack_name} a healthy snack?\")\n",
    "healthchat.asst(\"BOOL: \")\n",
    "\n",
    "def is_healthy_snack(snack):\n",
    "    return \"true\" in healthchat.ask(snack_name=snack).lower()\n",
    "\n",
    "print(\"apple == healthy is\", is_healthy_snack(\"apple\"))\n",
    "print(\"candy == healthy is\", is_healthy_snack(\"candy\"))"
   ]
  },
  {
   "cell_type": "code",
   "execution_count": 28,
   "metadata": {},
   "outputs": [
    {
     "name": "stdout",
     "output_type": "stream",
     "text": [
      "apple = 52\n",
      "popcorn = 31\n",
      "slimjim = 116\n",
      "potato salad = 180\n",
      "egg = 78\n"
     ]
    },
    {
     "data": {
      "text/plain": [
       "31"
      ]
     },
     "execution_count": 28,
     "metadata": {},
     "output_type": "execute_result"
    }
   ],
   "source": [
    "from chatsnack import Chat\n",
    "import json\n",
    "\n",
    "caloric = Chat(\"Respond only with {{\\\"calories\\\": N}}\\\" where N is the integer calories, average based on dietician snack expertise for a single portion. Respond only in this format.\")\n",
    "caloric.temperature = 0.0    # deterministic\n",
    "caloric.user(\"apple\").asst('{{\"calories\": 52}}')  # 1-shot example\n",
    "caloric.user(\"{snack_name}\")  # make it complete the format\n",
    "\n",
    "def get_calories(snack):\n",
    "    # extract the integer calories from the response JSON\n",
    "    response = caloric.ask(snack_name=snack)\n",
    "    # now response is json like {\"calories\": 52}\n",
    "    # get the integer value of the calories\n",
    "    return json.loads(response)[\"calories\"]\n",
    "\n",
    "snacklist = [\"apple\", \"popcorn\", \"slimjim\", \"potato salad\", \"egg\"]\n",
    "for snack in snacklist:\n",
    "    print(f\"{snack} = {get_calories(snack)}\")\n",
    "\n",
    "\n",
    "get_calories(\"popcorn\")"
   ]
  }
 ],
 "metadata": {
  "kernelspec": {
   "display_name": ".venv",
   "language": "python",
   "name": "python3"
  },
  "language_info": {
   "codemirror_mode": {
    "name": "ipython",
    "version": 3
   },
   "file_extension": ".py",
   "mimetype": "text/x-python",
   "name": "python",
   "nbconvert_exporter": "python",
   "pygments_lexer": "ipython3",
   "version": "3.10.6"
  },
  "orig_nbformat": 4,
  "vscode": {
   "interpreter": {
    "hash": "3a2bf92bfa0dca116af1ab58685594b7182838ce1c88ac25fef5d81f6aac1c0f"
   }
  }
 },
 "nbformat": 4,
 "nbformat_minor": 2
}
